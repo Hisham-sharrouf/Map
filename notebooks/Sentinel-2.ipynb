{
 "cells": [
  {
   "cell_type": "code",
   "execution_count": 113,
   "metadata": {},
   "outputs": [],
   "source": [
    "from bqplot import pyplot as plt\n",
    "import ipywidgets as widgets\n",
    "import numpy as np\n",
    "import ee\n",
    "import geemap\n",
    "from ipywidgets import interactive"
   ]
  },
  {
   "cell_type": "code",
   "execution_count": 128,
   "metadata": {
    "scrolled": true
   },
   "outputs": [
    {
     "data": {
      "application/vnd.jupyter.widget-view+json": {
       "model_id": "d61b50fe81ae474a9d547c7bb27348f7",
       "version_major": 2,
       "version_minor": 0
      },
      "text/plain": [
       "Map(center=[33.87, 35.9], controls=(WidgetControl(options=['position'], widget=HBox(children=(ToggleButton(val…"
      ]
     },
     "metadata": {},
     "output_type": "display_data"
    }
   ],
   "source": [
    "Map = geemap.Map(center=(33.87, 35.9), zoom=5,add_google_map=False)\n",
    "countries = ee.FeatureCollection('FAO/GAUL/2015/level0').select('ADM0_NAME')\n",
    "Map.addLayer(countries , {}, 'Country Boundaries');\n",
    "Map"
   ]
  },
  {
   "cell_type": "code",
   "execution_count": 129,
   "metadata": {},
   "outputs": [],
   "source": [
    "import os\n",
    "from ipyleaflet import WidgetControl"
   ]
  },
  {
   "cell_type": "code",
   "execution_count": 130,
   "metadata": {},
   "outputs": [
    {
     "data": {
      "application/vnd.jupyter.widget-view+json": {
       "model_id": "b683128ec37f4165ba7123de23eb9c65",
       "version_major": 2,
       "version_minor": 0
      },
      "text/plain": [
       "VBox(children=(HBox(children=(Text(value='Lebanon', description='Country name', style=DescriptionStyle(descrip…"
      ]
     },
     "metadata": {},
     "output_type": "display_data"
    }
   ],
   "source": [
    "import os\n",
    "style = {'description_width': 'initial'}\n",
    "\n",
    "output_widget = widgets.Output(layout={'border': '1px solid black'})\n",
    "output_control = WidgetControl(widget=output_widget, position='bottomright')\n",
    "Map.add_control(output_control)\n",
    "\n",
    "from_date = widgets.Text(\n",
    "    description='From date:',\n",
    "    value='2021-03-21',\n",
    "    width=200,\n",
    "    style=style\n",
    ")\n",
    "\n",
    "to_date = widgets.Text(\n",
    "    description='To year:',\n",
    "    value='2021-03-23',\n",
    "    width=300,\n",
    "    style=style\n",
    ")\n",
    "\n",
    "submit = widgets.Button(\n",
    "    description='Submit',\n",
    "    button_style='success',\n",
    "    tooltip='Click me',\n",
    "    style=style\n",
    ")\n",
    "\n",
    "band_1 = widgets.Dropdown(\n",
    "    description='Band 1:',\n",
    "    options=['','B1', 'B2', 'B3', 'B4', 'B5', 'B6', 'B7', 'B8', 'B8A', 'B9',\n",
    "              'B11', 'B12', 'AOT', 'WVP', 'SCL', 'TCI_R', 'TCI_G', 'TCI_B',\n",
    "              'MSK_CLDPRB', 'MSK_SNWPRB', 'QA10', 'QA20', 'QA60'],\n",
    "    value='B4',\n",
    "    style=style\n",
    ")\n",
    "\n",
    "band_2 = widgets.Dropdown(\n",
    "    description='Band 2:',\n",
    "    options=['','B1', 'B2', 'B3', 'B4', 'B5', 'B6', 'B7', 'B8', 'B8A', 'B9',\n",
    "              'B11', 'B12', 'AOT', 'WVP', 'SCL', 'TCI_R', 'TCI_G', 'TCI_B',\n",
    "              'MSK_CLDPRB', 'MSK_SNWPRB', 'QA10', 'QA20', 'QA60'],\n",
    "    value='B3',\n",
    "    style=style\n",
    ")\n",
    "\n",
    "band_3 = widgets.Dropdown(\n",
    "    description='Band 3:',\n",
    "    options=['','B1', 'B2', 'B3', 'B4', 'B5', 'B6', 'B7', 'B8', 'B8A', 'B9',\n",
    "              'B11', 'B12', 'AOT', 'WVP', 'SCL', 'TCI_R', 'TCI_G', 'TCI_B',\n",
    "              'MSK_CLDPRB', 'MSK_SNWPRB', 'QA10', 'QA20', 'QA60'],\n",
    "    value='B2',\n",
    "    style=style\n",
    ")\n",
    "\n",
    "county_name = widgets.Text(\n",
    "    description='Country name',\n",
    "    value='Lebanon',\n",
    "    width=350,\n",
    "    style=style\n",
    ")\n",
    "\n",
    "full_widget = widgets.VBox([\n",
    "    widgets.HBox([county_name]),\n",
    "    widgets.HBox([from_date,to_date]),\n",
    "    widgets.HBox([band_1, band_2,band_3]),\n",
    "    submit\n",
    "])\n",
    "\n",
    "full_widget"
   ]
  },
  {
   "cell_type": "code",
   "execution_count": 131,
   "metadata": {},
   "outputs": [],
   "source": [
    "def maskS2clouds(image):\n",
    "    qa = image.select('QA60')\n",
    "    \n",
    "    # Bits 10 and 11 are clouds and cirrus, respectively.\n",
    "    cloudBitMask = 1 << 10\n",
    "    cirrusBitMask = 1 << 11\n",
    "    # Both flags should be set to zero, indicating clear conditions.\n",
    "    mask = qa.bitwiseAnd(cloudBitMask).eq(0) \\\n",
    "    .And(qa.bitwiseAnd(cirrusBitMask).eq(0))\n",
    "    \n",
    "    return image.updateMask(mask).divide(10000)"
   ]
  },
  {
   "cell_type": "code",
   "execution_count": 132,
   "metadata": {},
   "outputs": [],
   "source": [
    "# Click event handler\n",
    "\n",
    "def submit_clicked(b):\n",
    "    \n",
    "    with output_widget:\n",
    "        output_widget.clear_output()\n",
    "        print('Computing...')\n",
    "        Map.default_style = {'cursor': 'wait'}\n",
    "\n",
    "        try:\n",
    "            start_date = from_date.value\n",
    "            end_date = to_date.value\n",
    "            \n",
    "            county=county_name.value\n",
    "            \n",
    "            band1=band_1.value\n",
    "            band2=band_2.value\n",
    "            band3=band_3.value\n",
    "            \n",
    "           \n",
    "            countries = ee.FeatureCollection('FAO/GAUL/2015/level0').select('ADM0_NAME')\n",
    "            country = countries.filter(ee.Filter.eq('ADM0_NAME', county))\n",
    "            \n",
    "            dataset = ee.ImageCollection('COPERNICUS/S2_SR') \\\n",
    "                  .filterDate(start_date, end_date) \\\n",
    "                  .filter(ee.Filter.lt('CLOUDY_PIXEL_PERCENTAGE',20)) \\\n",
    "                  .map(maskS2clouds)\n",
    "            sentinel2 =dataset.mean()\n",
    "            sentinel2 =sentinel2.clip(country)\n",
    "\n",
    "            visualization = {\n",
    "            'min': 0.0,\n",
    "            'max': 0.3,\n",
    "            'bands': [band1, band2, band3]\n",
    "                }\n",
    "            \n",
    "            Map.addLayer(sentinel2, visualization, f'{band1}/{band2}/{band3} _ {start_date}-{end_date}')\n",
    "            \n",
    "            output_widget.clear_output()\n",
    "\n",
    "            \n",
    "            \n",
    "            \n",
    "    \n",
    "        except Exception as e:\n",
    "            print(e)\n",
    "            print('An error occurred during computation.')\n",
    "        \n",
    "\n",
    "        Map.default_style = {'cursor': 'default'}\n",
    "\n",
    "submit.on_click(submit_clicked)"
   ]
  },
  {
   "cell_type": "code",
   "execution_count": 133,
   "metadata": {},
   "outputs": [
    {
     "name": "stdout",
     "output_type": "stream",
     "text": [
      "Change new layer opacity:\n"
     ]
    },
    {
     "data": {
      "application/vnd.jupyter.widget-view+json": {
       "model_id": "47ded11ae2c5450590665dc5f321f8e3",
       "version_major": 2,
       "version_minor": 0
      },
      "text/plain": [
       "Box(children=(FloatSlider(value=1.0, description='opacity', max=1.0),))"
      ]
     },
     "metadata": {},
     "output_type": "display_data"
    }
   ],
   "source": [
    "print('Change new layer opacity:')\n",
    "land_layer = Map.layers[-1]\n",
    "land_layer.interact(opacity=(0, 1, 0.1))"
   ]
  },
  {
   "cell_type": "code",
   "execution_count": 134,
   "metadata": {},
   "outputs": [
    {
     "name": "stdout",
     "output_type": "stream",
     "text": [
      "Change new layer opacity:\n"
     ]
    },
    {
     "data": {
      "application/vnd.jupyter.widget-view+json": {
       "model_id": "47e816f4b1654da3b3bec236fd835932",
       "version_major": 2,
       "version_minor": 0
      },
      "text/plain": [
       "Box(children=(FloatSlider(value=1.0, description='opacity', max=1.0),))"
      ]
     },
     "metadata": {},
     "output_type": "display_data"
    }
   ],
   "source": [
    "print('Change new layer opacity:')\n",
    "land_layer = Map.layers[-2]\n",
    "land_layer.interact(opacity=(0, 1, 0.1))"
   ]
  },
  {
   "cell_type": "code",
   "execution_count": 135,
   "metadata": {},
   "outputs": [
    {
     "data": {
      "application/vnd.jupyter.widget-view+json": {
       "model_id": "c20c35f42de44681aa35221029b92361",
       "version_major": 2,
       "version_minor": 0
      },
      "text/plain": [
       "VBox(children=(Button(button_style='success', description='Download', style=ButtonStyle(), tooltip='Click to d…"
      ]
     },
     "metadata": {},
     "output_type": "display_data"
    }
   ],
   "source": [
    "style = {'description_width': 'initial'}\n",
    "\n",
    "output_widget1 = widgets.Output(layout={'border': '1px solid black'})\n",
    "output_control1 = WidgetControl(widget=output_widget1, position='bottomright')\n",
    "Map.add_control(output_control1)\n",
    "\n",
    "\n",
    "\n",
    "submit1 = widgets.Button(\n",
    "    description='Download',\n",
    "    button_style='success',\n",
    "    tooltip='Click to download',\n",
    "    style=style\n",
    ")\n",
    "\n",
    "full_widget1 = widgets.VBox([\n",
    "    submit1\n",
    "])\n",
    "\n",
    "full_widget1"
   ]
  },
  {
   "cell_type": "code",
   "execution_count": 136,
   "metadata": {},
   "outputs": [],
   "source": [
    "# Click event handler\n",
    "\n",
    "def submit_clicked1(b):\n",
    "    \n",
    "    with output_widget1:\n",
    "        output_widget1.clear_output()\n",
    "        print('Downloading...')\n",
    "        Map.default_style = {'cursor': 'wait'}\n",
    "\n",
    "        try:\n",
    "            start_date = from_date.value\n",
    "            end_date = to_date.value\n",
    "            \n",
    "            county=county_name.value\n",
    "            \n",
    "            band1=band_1.value\n",
    "            band2=band_2.value\n",
    "            band3=band_3.value\n",
    "            \n",
    "           \n",
    "            countries = ee.FeatureCollection('FAO/GAUL/2015/level0').select('ADM0_NAME')\n",
    "            country = countries.filter(ee.Filter.eq('ADM0_NAME', county))\n",
    "            \n",
    "            dataset = ee.ImageCollection('COPERNICUS/S2_SR') \\\n",
    "                  .filterDate(start_date, end_date) \\\n",
    "                  .filter(ee.Filter.lt('CLOUDY_PIXEL_PERCENTAGE',20)) \\\n",
    "                  .map(maskS2clouds)\n",
    "            sentinel2 =dataset.mean()\n",
    "            #sentinel2 =sentinel2.clip(country)\n",
    "\n",
    "            visualization = {\n",
    "            'min': 0.0,\n",
    "            'max': 0.3,\n",
    "            'bands': [band1, band2, band3]\n",
    "                }\n",
    "            out_dir = os.path.join(os.path.expanduser('~'), 'Downloads')\n",
    "            filename = os.path.join(out_dir, f'{band1}-{band2}-{band3}_{start_date}-{end_date}-Sentinel-2.tif')\n",
    "            feature = Map.draw_last_feature\n",
    "            if feature is None:\n",
    "                geom = ee.Geometry.Polygon([[[35.429556, 33.80422],\n",
    "                                             [35.429556, 33.95016],\n",
    "                                             [35.674033, 33.95016],\n",
    "                                             [35.674033, 33.80422],\n",
    "                                             [35.429556, 33.80422]]])\n",
    "                feature = ee.Feature(geom, {})\n",
    "            roi = feature.geometry()\n",
    "            geemap.ee_export_image(sentinel2, filename=filename, scale=90, region=roi, file_per_band=False)\n",
    "            \n",
    "            \n",
    "            output_widget1.clear_output()\n",
    "\n",
    "            \n",
    "            \n",
    "            \n",
    "    \n",
    "        except Exception as e:\n",
    "            print(e)\n",
    "            print('An error occurred during computation.')\n",
    "        \n",
    "\n",
    "        Map.default_style = {'cursor': 'default'}\n",
    "\n",
    "submit1.on_click(submit_clicked1)"
   ]
  },
  {
   "cell_type": "code",
   "execution_count": null,
   "metadata": {},
   "outputs": [],
   "source": []
  }
 ],
 "metadata": {
  "kernelspec": {
   "display_name": "Python 3",
   "language": "python",
   "name": "python3"
  },
  "language_info": {
   "codemirror_mode": {
    "name": "ipython",
    "version": 3
   },
   "file_extension": ".py",
   "mimetype": "text/x-python",
   "name": "python",
   "nbconvert_exporter": "python",
   "pygments_lexer": "ipython3",
   "version": "3.8.2"
  }
 },
 "nbformat": 4,
 "nbformat_minor": 4
}
