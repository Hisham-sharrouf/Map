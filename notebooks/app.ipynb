{
 "cells": [
  {
   "cell_type": "markdown",
   "metadata": {},
   "source": [
    "<div data-ux=\"Block\" speed=\"-1.5\" oversizespeed=\"1.5\" excludedbreakpoints=\"\" id=\"header_parallax7866\" class=\"x-el x-el-div c1-1 c1-2 c1-4 c1-p c1-v c1-w c1-y c1-4k c1-27 c1-29 c1-i c1-b c1-c c1-d c1-4m c1-4n c1-4o c1-2f c1-e c1-f c1-g\" style=\"transform: none; opacity: 1;\"><div data-ux=\"Container\" class=\"x-el x-el-div c1-1 c1-2 c1-48 c1-47 c1-1w c1-1x c1-1y c1-b c1-c c1-4p c1-d c1-4q c1-21 c1-22 c1-4r c1-4s c1-4t c1-e c1-4u c1-f c1-4v c1-g\"><div data-ux=\"Hero\" class=\"x-el x-el-div c1-1 c1-2 c1-4w c1-4x c1-o c1-27 c1-29 c1-4y c1-4z c1-4 c1-2m c1-b c1-c c1-d c1-21 c1-50 c1-51 c1-52 c1-53 c1-22 c1-54 c1-55 c1-56 c1-57 c1-58 c1-e c1-f c1-g\"><div data-ux=\"Container\" class=\"x-el x-el-div c1-1 c1-2 c1-48 c1-47 c1-3j c1-3i c1-1y c1-59 c1-2i c1-2k c1-27 c1-29 c1-3k c1-b c1-c c1-4p c1-d c1-4q c1-e c1-4u c1-f c1-4v c1-g\"><div data-ux=\"Element\" id=\"tagline-container-7867\" class=\"x-el x-el-div c1-1 c1-2 c1-34 c1-2n c1-5a c1-5b c1-o c1-1y c1-b c1-c c1-d c1-e c1-f c1-g\" style=\"\"><h1 role=\"heading\" aria-level=\"1\" data-ux=\"Tagline\" data-aid=\"HEADER_TAGLINE_RENDERED\" id=\"dynamic-tagline-7868\" data-typography=\"HeadingAlpha\" class=\"x-el x-el-h1 c1-2s c1-2t c1-34 c1-2n c1-5a c1-48 c1-47 c1-27 c1-29 c1-5c c1-1y c1-2u c1-2v c1-5d c1-5e c1-5f c1-3s c1-3t c1-3u c1-3v c1-5g c1-5h c1-5i c1-5j\" style=\"font-size: 40px;\">Welcome to Mapsgeo</h1><span role=\"heading\" aria-level=\"NaN\" data-ux=\"scaler\" data-size=\"xxxlarge\" data-scaler-id=\"scaler-tagline-container-7867\" aria-hidden=\"true\" data-typography=\"HeadingAlpha\" class=\"x-el x-el-span c1-2s c1-2t c1-5k c1-5l c1-5a c1-48 c1-47 c1-27 c1-29 c1-5c c1-1y c1-46 c1-4i c1-5m c1-3b c1-5n c1-5o c1-5e c1-2v c1-5d c1-5f c1-3s c1-3t c1-3u c1-3v c1-5g c1-5h c1-5i c1-5j\" style=\"display: none;\">Welcome to Mapsgeo</span><span role=\"heading\" aria-level=\"NaN\" data-ux=\"scaler\" data-size=\"xxlarge\" data-scaler-id=\"scaler-tagline-container-7867\" aria-hidden=\"true\" data-typography=\"HeadingAlpha\" class=\"x-el x-el-span c1-2s c1-2t c1-5k c1-5l c1-5a c1-48 c1-47 c1-27 c1-29 c1-5c c1-1y c1-46 c1-4i c1-5m c1-3b c1-5n c1-5o c1-5p c1-2v c1-5d c1-5f c1-3s c1-3t c1-3u c1-3v c1-5q c1-5r c1-5s c1-5t\" style=\"display: none;\">Welcome to Mapsgeo</span><span role=\"heading\" aria-level=\"NaN\" data-ux=\"scaler\" data-size=\"xlarge\" data-scaler-id=\"scaler-tagline-container-7867\" aria-hidden=\"true\" data-typography=\"HeadingAlpha\" class=\"x-el x-el-span c1-2s c1-2t c1-5k c1-5l c1-5a c1-48 c1-47 c1-27 c1-29 c1-5c c1-1y c1-46 c1-4i c1-5m c1-3b c1-5n c1-5o c1-5u c1-2v c1-5d c1-5f c1-3s c1-3t c1-3u c1-3v c1-5v c1-5w c1-5x c1-5y\" style=\"display: none;\">Welcome to Mapsgeo</span></div></div><div data-ux=\"HeroText\" data-aid=\"HEADER_TAGLINE2_RENDERED\" data-typography=\"BodyBeta\" class=\"x-el c1-1 c1-2 c1-34 c1-2n c1-5z c1-27 c1-29 c1-1y c1-60 c1-61 c1-62 c1-63 c1-b c1-5d c1-64 c1-65 c1-66 c1-67 c1-68 c1-69 x-rt\"><p style=\"margin:0\"><span class=\"x-el x-el-span c1-6g c1-6h c1-b c1-64 c1-66 c1-67 c1-68 c1-69\"><em class=\"x-el x-el-span c1-31 c1-32 c1-6a c1-6b c1-3d c1-6c c1-6d c1-b\">A leading provider of Satellite Imagery, GIS mapping and Remote Sensing Services</em></span></p><p style=\"margin:0\"><span class=\"x-el x-el-span c1-6g c1-6h c1-b c1-64 c1-66 c1-67 c1-68 c1-69\"><em class=\"x-el x-el-span c1-31 c1-32 c1-6a c1-6b c1-3d c1-6c c1-6d c1-b\">supporting all engineering firms&nbsp;</em></span></p></div></div></div></div>"
   ]
  },
  {
   "cell_type": "markdown",
   "metadata": {},
   "source": [
    "## Testing map by Hisham"
   ]
  },
  {
   "cell_type": "code",
   "execution_count": 1,
   "metadata": {},
   "outputs": [],
   "source": [
    "import ee\n",
    "import geemap\n",
    "import ipywidgets as widgets\n",
    "from bqplot import pyplot as plt\n",
    "from ipyleaflet import WidgetControl\n",
    "from ipywidgets import interactive\n"
   ]
  },
  {
   "cell_type": "code",
   "execution_count": 33,
   "metadata": {},
   "outputs": [
    {
     "name": "stdout",
     "output_type": "stream",
     "text": [
      "The input gif file does not exist.\n"
     ]
    },
    {
     "data": {
      "application/vnd.jupyter.widget-view+json": {
       "model_id": "16f67aad6943454aa0f5e2ab5e4d2589",
       "version_major": 2,
       "version_minor": 0
      },
      "text/plain": [
       "Output()"
      ]
     },
     "metadata": {},
     "output_type": "display_data"
    }
   ],
   "source": [
    "import os\n",
    "work_dir = os.path.join(os.path.expanduser(\"~\"), 'notebooks')\n",
    "#if not os.path.exists(work_dir):\n",
    "#    os.makedirs(work_dir)\n",
    "texted_gif = os.path.join(work_dir,\"landsat_ts_text.gif\")\n",
    "#geemap.add_text_to_gif(out_gif, texted_gif, xy=('3%', '5%'), text_sequence=1985, font_size=30, font_color='#ffffff', add_progress_bar=False)\n",
    "\n",
    "#label = 'Urban Growth in Beirut'\n",
    "#geemap.add_text_to_gif(texted_gif, texted_gif, xy=('2%', '88%'), text_sequence=label, font_size=30, font_color='#ffffff', progress_bar_color='cyan')\n",
    "\n",
    "geemap.show_image(texted_gif)"
   ]
  },
  {
   "cell_type": "code",
   "execution_count": 32,
   "metadata": {
    "scrolled": false
   },
   "outputs": [
    {
     "data": {
      "application/vnd.jupyter.widget-view+json": {
       "model_id": "507ca36b62a14a03bbb0cc781499bf35",
       "version_major": 2,
       "version_minor": 0
      },
      "text/plain": [
       "Map(bottom=26508.0, center=[33.87, 35.9], controls=(WidgetControl(options=['position'], widget=HBox(children=(…"
      ]
     },
     "metadata": {},
     "output_type": "display_data"
    }
   ],
   "source": [
    "# center on Lebanon\n",
    "\n",
    "\n",
    "# Add Earth Eninge layers to Map\n",
    "countries = ee.FeatureCollection('FAO/GAUL/2015/level2').select('ADM0_NAME','ADM1_NAME','ADM2_NAME')\n",
    "# Filter the feature collection to subset .\n",
    "lebanon = countries.filter(ee.Filter.eq('ADM0_NAME', 'Lebanon'))\n",
    "Map.addLayer(lebanon, {}, 'Second-level administrative region')\n",
    "\n",
    "\n",
    "#Global/ALOS_landforms\n",
    "\n",
    "#dataset_otq = ee.Image('CSP/ERGo/1_0/Global/ALOS_landforms')\n",
    "#dataset_otq =dataset_otq.clip(lebanon)\n",
    "#Map.addLayer(dataset_otq, {}, \"CSP/ERGo/1_0/Global/ALOS_landforms\")\n",
    "\n",
    "'''\n",
    "#Add Earth Engine dataset\n",
    "\n",
    "dem = ee.Image('USGS/SRTMGL1_003')\n",
    "dem=dem.clip(lebanon)\n",
    "# Set visualization parameters.\n",
    "vis_params = {\n",
    "  'min': 0,\n",
    "  'max': 4000,\n",
    "  'palette': ['006633', 'E5FFCC', '662A00', 'D8D8D8', 'F5F5F5']}\n",
    "Map.addLayer(dem, vis_params, 'STRM DEM', True, 1)\n",
    "'''\n",
    "\n",
    "'''\n",
    "#landsat7 = ee.Image('LE7_TOA_5YEAR/1999_2003')\n",
    "#landsat7=landsat7.clip(lebanon)\n",
    "#Map.addLayer(landsat7, {'bands': ['B4', 'B3', 'B2'], 'min': 20, 'max': 200}, 'Landsat 7')\n",
    "'''\n",
    "\n",
    "'''\n",
    "#Global/ALOS_landforms\n",
    "#landcover = ee.Image(\"ESA/GLOBCOVER_L4_200901_200912_V2_3\").select('landcover')\n",
    "#landcover=landcover.clip(lebanon)\n",
    "#Map.addLayer(landcover, {}, 'Land cover')\n",
    "'''\n",
    "\n",
    "\n",
    "\n",
    "\n",
    "'''\n",
    "#legend_keys = ['black','white','orange','yellow','red']\n",
    "#colorS can be defined using either hex code or RGB (0-255, 0-255, 0-255)\n",
    "legend_colors = [(0, 0,0), (255,255, 255), (251, 125, 0),(251, 223, 0), (255, 0 ,0)]\n",
    "\n",
    "for i in range(2020, 2021, 1):\n",
    "    for j in range(1, 2, 1):\n",
    "        if (j== 2):\n",
    "        \n",
    "            d=28\n",
    "        \n",
    "        elif (j==4 or j==6 or j==9 or j==11  ): \n",
    "            d=30\n",
    "        \n",
    "        else: \n",
    "            d=31\n",
    "        \n",
    "\n",
    "        dataset = ee.ImageCollection('NOAA/VIIRS/DNB/MONTHLY_V1/VCMSLCFG')\\\n",
    "        .filterDate(f'{i}-{j}-01', f'{i}-{j}-{d}')\n",
    "        nighttime =dataset.sort('system:time_end').first().select('avg_rad')\n",
    "        nighttime = nighttime.clip(lebanon)\n",
    "        nighttimeVis = {'min': 0.0, 'max': 60.0, 'palette':['black','white','orange','yellow','red']}\n",
    "    #Map.setCenter(35.9957, 33.8718, 8)\n",
    "    #Map.addLayer(nighttime, nighttimeVis, 'Nighttime '+i+'-'+j,False)\n",
    "#print(f'{i}-{j}-{d}')\n",
    "        Map.addLayer(nighttime , nighttimeVis, f'night light {i}-{j}-{d}')\n",
    "        \n",
    "        '''\n",
    "\n",
    "\n",
    "\n",
    "#Map.add_legend(legend_title=\"night\",legend_keys=legend_keys, legend_colors=legend_colors, position='bottomleft')\n",
    "Map"
   ]
  },
  {
   "cell_type": "code",
   "execution_count": 17,
   "metadata": {},
   "outputs": [
    {
     "data": {
      "application/vnd.jupyter.widget-view+json": {
       "model_id": "dc5205ae7c6e41c6ba376f236af018ae",
       "version_major": 2,
       "version_minor": 0
      },
      "text/plain": [
       "VBox(children=(HBox(children=(Text(value='Bekaa', description='First-level administrative region:', style=Desc…"
      ]
     },
     "metadata": {},
     "output_type": "display_data"
    }
   ],
   "source": [
    "# Designe interactive widgets\n",
    "\n",
    "style = {'description_width': 'initial'}\n",
    "\n",
    "output_widget = widgets.Output(layout={'border': '1px solid black'})\n",
    "output_control = WidgetControl(widget=output_widget, position='bottomright')\n",
    "Map.add_control(output_control)\n",
    "\n",
    "admin1_widget = widgets.Text(\n",
    "    description='First-level administrative region:',\n",
    "    value='Bekaa',\n",
    "    width=200,\n",
    "    style=style\n",
    ")\n",
    "\n",
    "admin2_widget = widgets.Text(\n",
    "    description='Second-level administrative area:',\n",
    "    value='Rachiaya',\n",
    "    width=300,\n",
    "    style=style\n",
    ")\n",
    "\n",
    "band_combo = widgets.Dropdown(\n",
    "    description='Display image band combination:',\n",
    "    options=['Red/Green/Blue', 'NIR/Red/Green',  'SWIR2/SWIR1/NIR', 'NIR/SWIR1/Red','SWIR2/NIR/Red', \n",
    "             'SWIR2/SWIR1/Red', 'SWIR1/NIR/Blue', 'NIR/SWIR1/Blue', 'SWIR2/NIR/Green', 'SWIR1/NIR/Red'],\n",
    "    value='Red/Green/Blue',\n",
    "    style=style\n",
    ")\n",
    "\n",
    "year_widget = widgets.IntSlider(min=2010, max=2020, value=2020, description='Display data for the specified year:', width=400, style=style)\n",
    "\n",
    "fmask_widget = widgets.Checkbox(\n",
    "    value=True,\n",
    "    description='Apply mask (remove clouds, shadows, snow)',\n",
    "    style=style\n",
    ")\n",
    "\n",
    "\n",
    "# Normalized Satellite Indices: https://www.usna.edu/Users/oceano/pguth/md_help/html/norm_sat.htm\n",
    "\n",
    "nd_options = ['Vegetation Index (NDVI)', \n",
    "              'Water Index (NDWI)',\n",
    "              'Modified Water Index (MNDWI)',\n",
    "              'Snow Index (NDSI)',\n",
    "              'Soil Index (NDSI)',\n",
    "              'Burn Ratio (NBR)',\n",
    "              'Customized']\n",
    "nd_indices = widgets.Dropdown(options=nd_options, value='Water Index (NDWI)', description='Normalized index:', style=style)\n",
    "\n",
    "first_band = widgets.Dropdown(\n",
    "    description='Band 1:',\n",
    "    options=['Blue', 'Green','Red','NIR', 'SWIR1', 'SWIR2'],\n",
    "    value='Green',\n",
    "    style=style\n",
    ")\n",
    "\n",
    "second_band = widgets.Dropdown(\n",
    "    description='Band 2:',\n",
    "    options=['Blue', 'Green','Red','NIR', 'SWIR1', 'SWIR2'],\n",
    "    value='SWIR1',\n",
    "    style=style\n",
    ")\n",
    "\n",
    "nd_threshold = widgets.FloatSlider(\n",
    "    value=0,\n",
    "    min=-1,\n",
    "    max=1,\n",
    "    step=0.01,\n",
    "    description='Threshold:',\n",
    "    orientation='horizontal',\n",
    "    style=style\n",
    ")\n",
    "\n",
    "nd_color = widgets.ColorPicker(\n",
    "    concise=False,\n",
    "    description='colour:',\n",
    "    value='blue',\n",
    "    style=style\n",
    ")\n",
    "\n",
    "def nd_index_change(change):\n",
    "    if nd_indices.value == 'Vegetation Index (NDVI)':\n",
    "        first_band.value = 'NIR'\n",
    "        second_band.value = 'Red'\n",
    "    elif nd_indices.value == 'Water Index (NDWI)':\n",
    "        first_band.value = 'NIR'\n",
    "        second_band.value = 'SWIR1'   \n",
    "    elif nd_indices.value == 'Modified Water Index (MNDWI)':\n",
    "        first_band.value = 'Green'\n",
    "        second_band.value = 'SWIR1'   \n",
    "    elif nd_indices.value == 'Snow Index (NDSI)':\n",
    "        first_band.value = 'Green'\n",
    "        second_band.value = 'SWIR1'\n",
    "    elif nd_indices.value == 'Soil Index (NDSI)':\n",
    "        first_band.value = 'SWIR1'\n",
    "        second_band.value = 'NIR'        \n",
    "    elif nd_indices.value == 'Burn Ratio (NBR)':\n",
    "        first_band.value = 'NIR'\n",
    "        second_band.value = 'SWIR2'\n",
    "    elif nd_indices.value == 'Customized':\n",
    "        first_band.value = None\n",
    "        second_band.value = None\n",
    "        \n",
    "nd_indices.observe(nd_index_change, names='value')\n",
    "\n",
    "submit = widgets.Button(\n",
    "    description='Submit',\n",
    "    button_style='primary',\n",
    "    tooltip='Click me',\n",
    "    style=style\n",
    ")\n",
    "\n",
    "full_widget = widgets.VBox([\n",
    "    widgets.HBox([admin1_widget, admin2_widget]),\n",
    "    widgets.HBox([band_combo, year_widget, fmask_widget]),\n",
    "    widgets.HBox([nd_indices, first_band, second_band, nd_threshold, nd_color]),\n",
    "    submit\n",
    "])\n",
    "\n",
    "full_widget"
   ]
  },
  {
   "cell_type": "code",
   "execution_count": 27,
   "metadata": {},
   "outputs": [],
   "source": [
    "# Capture user interaction with the map\n",
    "\n",
    "def handle_interaction(**kwargs):\n",
    "    latlon = kwargs.get('coordinates')\n",
    "    if kwargs.get('type') == 'click':\n",
    "        Map.default_style = {'cursor': 'wait'}\n",
    "        xy = ee.Geometry.Point(latlon[::-1])\n",
    "        selected_fc = lebanon.filterBounds(xy)\n",
    "        \n",
    "        with output_widget:\n",
    "            output_widget.clear_output()\n",
    "        \n",
    "            try:\n",
    "                admin1_id = selected_fc.first().get('ADM1_NAME').getInfo()\n",
    "                admin2_id = selected_fc.first().get('ADM2_NAME').getInfo()\n",
    "                admin1_widget.value = admin1_id\n",
    "                admin2_widget.value = admin2_id\n",
    "                Map.layers = Map.layers[:4]        \n",
    "                geom = selected_fc.geometry()\n",
    "                layer_name = admin1_id + '-' + admin2_id\n",
    "                Map.addLayer(ee.Image().paint(geom, 0, 2), {'palette': 'red'}, layer_name)  \n",
    "                print(layer_name)\n",
    "            except:\n",
    "                print('Cannot find the relevant administrative district')\n",
    "                Map.layers = Map.layers[:4]\n",
    "            \n",
    "        Map.default_style = {'cursor': 'pointer'}\n",
    "\n",
    "Map.on_interaction(handle_interaction)"
   ]
  },
  {
   "cell_type": "code",
   "execution_count": 28,
   "metadata": {},
   "outputs": [],
   "source": [
    "# Click event handler\n",
    "\n",
    "def submit_clicked(b):\n",
    "    \n",
    "    with output_widget:\n",
    "        output_widget.clear_output()\n",
    "        print('Computing...')\n",
    "        Map.default_style = {'cursor': 'wait'}\n",
    "\n",
    "        try:\n",
    "            admin1_id = admin1_widget.value\n",
    "            admin2_id = admin2_widget.value\n",
    "            band1 = first_band.value\n",
    "            band2 = second_band.value\n",
    "            selected_year = year_widget.value\n",
    "            threshold = nd_threshold.value\n",
    "            bands = band_combo.value.split('/')\n",
    "            apply_fmask = fmask_widget.value\n",
    "            palette = nd_color.value\n",
    "            \n",
    "            roi = lebanon.filter(ee.Filter.And(ee.Filter.eq('ADM1_NAME', admin1_id), ee.Filter.eq('ADM2_NAME', admin2_id)))\n",
    "            Map.layers = Map.layers[:4]        \n",
    "            geom = roi.geometry()\n",
    "            layer_name = admin1_id + '-' + admin2_id\n",
    "            Map.addLayer(ee.Image().paint(geom, 0, 2), {'palette': 'red'}, layer_name)  \n",
    "            \n",
    "            images = geemap.landsat_timeseries(roi=roi, start_year=2010, end_year=2020, start_date='01-01', end_date='12-31', apply_fmask=apply_fmask)\n",
    "            nd_images = images.map(lambda img: img.normalizedDifference([band1, band2]))\n",
    "            result_images = nd_images.map(lambda img: img.gt(threshold))\n",
    "\n",
    "            selected_image = ee.Image(images.toList(images.size()).get(selected_year - 2010))\n",
    "            selected_result_image = ee.Image(result_images.toList(result_images.size()).get(selected_year - 2010)).selfMask()\n",
    "            \n",
    "            vis_params = {\n",
    "                'bands': bands,\n",
    "                'min': 0,\n",
    "                'max': 3000\n",
    "            }\n",
    "            \n",
    "            Map.addLayer(selected_image, vis_params, 'Landsat ' + str(selected_year))\n",
    "            Map.addLayer(selected_result_image, {'palette': palette}, 'Result ' + str(selected_year))\n",
    "\n",
    "            \n",
    "            def cal_area(img):\n",
    "                pixel_area = img.multiply(ee.Image.pixelArea()).divide(1e6)\n",
    "                img_area = pixel_area.reduceRegion(**{\n",
    "                    'geometry': roi.geometry(),\n",
    "                    'reducer': ee.Reducer.sum(),\n",
    "                    'scale': 1000,\n",
    "                    'maxPixels': 1e12,\n",
    "                    'bestEffort': True\n",
    "                })\n",
    "                return img.set({'area': img_area})\n",
    "            \n",
    "            areas = result_images.map(cal_area)\n",
    "            stats = areas.aggregate_array('area').getInfo()\n",
    "            x = list(range(2010, 2021))\n",
    "            y = [item.get('nd') for item in stats]\n",
    "            \n",
    "            fig = plt.figure(1)\n",
    "            fig.layout.height = '270px'\n",
    "            plt.clear()\n",
    "            plt.plot(x, y)\n",
    "            plt.title('Temporal trend (1984-2021)')\n",
    "            plt.xlabel('Year')\n",
    "            plt.ylabel('Area (km2)')\n",
    "            \n",
    "            output_widget.clear_output()            \n",
    "\n",
    "            plt.show()\n",
    "    \n",
    "        except Exception as e:\n",
    "            print(e)\n",
    "            print('An error occurred during computation.')\n",
    "        \n",
    "\n",
    "        Map.default_style = {'cursor': 'default'}\n",
    "\n",
    "submit.on_click(submit_clicked)"
   ]
  },
  {
   "cell_type": "code",
   "execution_count": 30,
   "metadata": {},
   "outputs": [
    {
     "name": "stdout",
     "output_type": "stream",
     "text": [
      "Change Land cover layer opacity:\n"
     ]
    },
    {
     "data": {
      "application/vnd.jupyter.widget-view+json": {
       "model_id": "8c7c7aac833e43a6b95f52fd68d05795",
       "version_major": 2,
       "version_minor": 0
      },
      "text/plain": [
       "Box(children=(FloatSlider(value=1.0, description='opacity', max=1.0),))"
      ]
     },
     "metadata": {},
     "output_type": "display_data"
    }
   ],
   "source": [
    "print('Change Land cover layer opacity:')\n",
    "land_layer = Map.layers[-2]\n",
    "land_layer.interact(opacity=(0, 1, 0.1))"
   ]
  },
  {
   "cell_type": "code",
   "execution_count": null,
   "metadata": {},
   "outputs": [],
   "source": []
  },
  {
   "cell_type": "code",
   "execution_count": null,
   "metadata": {},
   "outputs": [],
   "source": []
  }
 ],
 "metadata": {
  "kernelspec": {
   "display_name": "Python 3",
   "language": "python",
   "name": "python3"
  },
  "language_info": {
   "codemirror_mode": {
    "name": "ipython",
    "version": 3
   },
   "file_extension": ".py",
   "mimetype": "text/x-python",
   "name": "python",
   "nbconvert_exporter": "python",
   "pygments_lexer": "ipython3",
   "version": "3.8.2"
  }
 },
 "nbformat": 4,
 "nbformat_minor": 4
}
