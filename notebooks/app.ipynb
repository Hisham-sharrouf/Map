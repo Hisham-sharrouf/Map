{
 "cells": [
  {
   "cell_type": "markdown",
   "metadata": {},
   "source": [
    "<div data-ux=\"Block\" speed=\"-1.5\" oversizespeed=\"1.5\" excludedbreakpoints=\"\" id=\"header_parallax7866\" class=\"x-el x-el-div c1-1 c1-2 c1-4 c1-p c1-v c1-w c1-y c1-4k c1-27 c1-29 c1-i c1-b c1-c c1-d c1-4m c1-4n c1-4o c1-2f c1-e c1-f c1-g\" style=\"transform: none; opacity: 1;\"><div data-ux=\"Container\" class=\"x-el x-el-div c1-1 c1-2 c1-48 c1-47 c1-1w c1-1x c1-1y c1-b c1-c c1-4p c1-d c1-4q c1-21 c1-22 c1-4r c1-4s c1-4t c1-e c1-4u c1-f c1-4v c1-g\"><div data-ux=\"Hero\" class=\"x-el x-el-div c1-1 c1-2 c1-4w c1-4x c1-o c1-27 c1-29 c1-4y c1-4z c1-4 c1-2m c1-b c1-c c1-d c1-21 c1-50 c1-51 c1-52 c1-53 c1-22 c1-54 c1-55 c1-56 c1-57 c1-58 c1-e c1-f c1-g\"><div data-ux=\"Container\" class=\"x-el x-el-div c1-1 c1-2 c1-48 c1-47 c1-3j c1-3i c1-1y c1-59 c1-2i c1-2k c1-27 c1-29 c1-3k c1-b c1-c c1-4p c1-d c1-4q c1-e c1-4u c1-f c1-4v c1-g\"><div data-ux=\"Element\" id=\"tagline-container-7867\" class=\"x-el x-el-div c1-1 c1-2 c1-34 c1-2n c1-5a c1-5b c1-o c1-1y c1-b c1-c c1-d c1-e c1-f c1-g\" style=\"\"><h1 role=\"heading\" aria-level=\"1\" data-ux=\"Tagline\" data-aid=\"HEADER_TAGLINE_RENDERED\" id=\"dynamic-tagline-7868\" data-typography=\"HeadingAlpha\" class=\"x-el x-el-h1 c1-2s c1-2t c1-34 c1-2n c1-5a c1-48 c1-47 c1-27 c1-29 c1-5c c1-1y c1-2u c1-2v c1-5d c1-5e c1-5f c1-3s c1-3t c1-3u c1-3v c1-5g c1-5h c1-5i c1-5j\" style=\"font-size: 40px;\">Welcome to Mapsgeo</h1><span role=\"heading\" aria-level=\"NaN\" data-ux=\"scaler\" data-size=\"xxxlarge\" data-scaler-id=\"scaler-tagline-container-7867\" aria-hidden=\"true\" data-typography=\"HeadingAlpha\" class=\"x-el x-el-span c1-2s c1-2t c1-5k c1-5l c1-5a c1-48 c1-47 c1-27 c1-29 c1-5c c1-1y c1-46 c1-4i c1-5m c1-3b c1-5n c1-5o c1-5e c1-2v c1-5d c1-5f c1-3s c1-3t c1-3u c1-3v c1-5g c1-5h c1-5i c1-5j\" style=\"display: none;\">Welcome to Mapsgeo</span><span role=\"heading\" aria-level=\"NaN\" data-ux=\"scaler\" data-size=\"xxlarge\" data-scaler-id=\"scaler-tagline-container-7867\" aria-hidden=\"true\" data-typography=\"HeadingAlpha\" class=\"x-el x-el-span c1-2s c1-2t c1-5k c1-5l c1-5a c1-48 c1-47 c1-27 c1-29 c1-5c c1-1y c1-46 c1-4i c1-5m c1-3b c1-5n c1-5o c1-5p c1-2v c1-5d c1-5f c1-3s c1-3t c1-3u c1-3v c1-5q c1-5r c1-5s c1-5t\" style=\"display: none;\">Welcome to Mapsgeo</span><span role=\"heading\" aria-level=\"NaN\" data-ux=\"scaler\" data-size=\"xlarge\" data-scaler-id=\"scaler-tagline-container-7867\" aria-hidden=\"true\" data-typography=\"HeadingAlpha\" class=\"x-el x-el-span c1-2s c1-2t c1-5k c1-5l c1-5a c1-48 c1-47 c1-27 c1-29 c1-5c c1-1y c1-46 c1-4i c1-5m c1-3b c1-5n c1-5o c1-5u c1-2v c1-5d c1-5f c1-3s c1-3t c1-3u c1-3v c1-5v c1-5w c1-5x c1-5y\" style=\"display: none;\">Welcome to Mapsgeo</span></div></div><div data-ux=\"HeroText\" data-aid=\"HEADER_TAGLINE2_RENDERED\" data-typography=\"BodyBeta\" class=\"x-el c1-1 c1-2 c1-34 c1-2n c1-5z c1-27 c1-29 c1-1y c1-60 c1-61 c1-62 c1-63 c1-b c1-5d c1-64 c1-65 c1-66 c1-67 c1-68 c1-69 x-rt\"><p style=\"margin:0\"><span class=\"x-el x-el-span c1-6g c1-6h c1-b c1-64 c1-66 c1-67 c1-68 c1-69\"><em class=\"x-el x-el-span c1-31 c1-32 c1-6a c1-6b c1-3d c1-6c c1-6d c1-b\">A leading provider of Satellite Imagery, GIS mapping and Remote Sensing Services</em></span></p><p style=\"margin:0\"><span class=\"x-el x-el-span c1-6g c1-6h c1-b c1-64 c1-66 c1-67 c1-68 c1-69\"><em class=\"x-el x-el-span c1-31 c1-32 c1-6a c1-6b c1-3d c1-6c c1-6d c1-b\">supporting all engineering firms&nbsp;</em></span></p></div></div></div></div>"
   ]
  },
  {
   "cell_type": "markdown",
   "metadata": {},
   "source": [
    "## Testing map by Hisham"
   ]
  },
  {
   "cell_type": "code",
   "execution_count": 18,
   "metadata": {},
   "outputs": [],
   "source": [
    "import ee\n",
    "import geemap\n"
   ]
  },
  {
   "cell_type": "code",
   "execution_count": 19,
   "metadata": {},
   "outputs": [],
   "source": [
    "from ipywidgets import interactive"
   ]
  },
  {
   "cell_type": "code",
   "execution_count": 21,
   "metadata": {
    "scrolled": true
   },
   "outputs": [
    {
     "data": {
      "application/vnd.jupyter.widget-view+json": {
       "model_id": "f287fe8cc2884ceabf109da96d828452",
       "version_major": 2,
       "version_minor": 0
      },
      "text/plain": [
       "Map(center=[33.87, 35.9], controls=(WidgetControl(options=['position'], widget=HBox(children=(ToggleButton(val…"
      ]
     },
     "metadata": {},
     "output_type": "display_data"
    }
   ],
   "source": [
    "# center on Lebanon\n",
    "lat = 33.87\n",
    "lon = 35.9\n",
    "\n",
    "\n",
    "legend_keys = ['black','white','orange','yellow','red']\n",
    " #colorS can be defined using either hex code or RGB (0-255, 0-255, 0-255)\n",
    "legend_colors = [(0, 0,0), (255,255, 255), (251, 125, 0),(251, 223, 0), (255, 0 ,0)]\n",
    "\n",
    "Map = geemap.Map(center=[lat,lon],zoom=8)\n",
    "\n",
    "#Global/ALOS_landforms\n",
    "dataset_otq = ee.Image('CSP/ERGo/1_0/Global/ALOS_landforms')\n",
    "countries = ee.FeatureCollection('FAO/GAUL/2015/level0').select('ADM0_NAME')\n",
    "\n",
    "# Filter the feature collection to subset France.\n",
    "lebanon = countries.filter(ee.Filter.eq('ADM0_NAME', 'Lebanon'))\n",
    "dataset_otq =dataset_otq.clip(lebanon)\n",
    "Map.addLayer(dataset_otq, {}, \"CSP/ERGo/1_0/Global/ALOS_landforms\")\n",
    "\n",
    "\n",
    "# Add Earth Engine dataset\n",
    "dem = ee.Image('USGS/SRTMGL1_003')\n",
    "landcover = ee.Image(\"ESA/GLOBCOVER_L4_200901_200912_V2_3\").select('landcover')\n",
    "landsat7 = ee.Image('LE7_TOA_5YEAR/1999_2003')\n",
    "states = ee.FeatureCollection(\"TIGER/2018/States\")\n",
    "#Global/ALOS_landforms\n",
    "dataset_otq = ee.Image('CSP/ERGo/1_0/Global/ALOS_landforms')\n",
    "countries = ee.FeatureCollection('FAO/GAUL/2015/level0').select('ADM0_NAME')\n",
    "\n",
    "# Filter the feature collection to subset France.\n",
    "lebanon = countries.filter(ee.Filter.eq('ADM0_NAME', 'Lebanon'))\n",
    "# Set visualization parameters.\n",
    "vis_params = {\n",
    "  'min': 0,\n",
    "  'max': 4000,\n",
    "  'palette': ['006633', 'E5FFCC', '662A00', 'D8D8D8', 'F5F5F5']}\n",
    "landsat7=landsat7.clip(lebanon)\n",
    "landcover=landcover.clip(lebanon)\n",
    "dem=dem.clip(lebanon)\n",
    "\n",
    "# Add Earth Eninge layers to Map\n",
    "Map.addLayer(landsat7, {'bands': ['B4', 'B3', 'B2'], 'min': 20, 'max': 200}, 'Landsat 7')\n",
    "Map.addLayer(landcover, {}, 'Land cover')\n",
    "\n",
    "\n",
    "for i in range(2020, 2021, 1):\n",
    "    for j in range(1, 2, 1):\n",
    "        if (j== 2):\n",
    "        \n",
    "            d=28\n",
    "        \n",
    "        elif (j==4 or j==6 or j==9 or j==11  ): \n",
    "            d=30\n",
    "        \n",
    "        else: \n",
    "            d=31\n",
    "        \n",
    "\n",
    "        dataset = ee.ImageCollection('NOAA/VIIRS/DNB/MONTHLY_V1/VCMSLCFG')\\\n",
    "        .filterDate(f'{i}-{j}-01', f'{i}-{j}-{d}')\n",
    "        nighttime =dataset.sort('system:time_end').first().select('avg_rad')\n",
    "        nighttime = nighttime.clip(lebanon)\n",
    "        nighttimeVis = {'min': 0.0, 'max': 60.0, 'palette':['black','white','orange','yellow','red']}\n",
    "    #Map.setCenter(35.9957, 33.8718, 8)\n",
    "    #Map.addLayer(nighttime, nighttimeVis, 'Nighttime '+i+'-'+j,False)\n",
    "#print(f'{i}-{j}-{d}')\n",
    "        Map.addLayer(nighttime , nighttimeVis, f'night light {i}-{j}-{d}')\n",
    "Map.addLayer(dem, vis_params, 'STRM DEM', True, 1)\n",
    "\n",
    "#Map.add_legend(legend_title=\"night\",legend_keys=legend_keys, legend_colors=legend_colors, position='bottomleft')\n",
    "Map"
   ]
  },
  {
   "cell_type": "code",
   "execution_count": 22,
   "metadata": {},
   "outputs": [
    {
     "name": "stdout",
     "output_type": "stream",
     "text": [
      "Change LightNight layer opacity:\n"
     ]
    },
    {
     "data": {
      "application/vnd.jupyter.widget-view+json": {
       "model_id": "5a19bd9cd0f041ea84f5a2c414347797",
       "version_major": 2,
       "version_minor": 0
      },
      "text/plain": [
       "Box(children=(FloatSlider(value=1.0, description='opacity', max=1.0),))"
      ]
     },
     "metadata": {},
     "output_type": "display_data"
    }
   ],
   "source": [
    "print('Change LightNight layer opacity:')\n",
    "light_layer = Map.layers[-2]\n",
    "light_layer.interact(opacity=(0, 1, 0.1))"
   ]
  },
  {
   "cell_type": "code",
   "execution_count": 23,
   "metadata": {},
   "outputs": [
    {
     "name": "stdout",
     "output_type": "stream",
     "text": [
      "Change STRM DEM layer opacity:\n"
     ]
    },
    {
     "data": {
      "application/vnd.jupyter.widget-view+json": {
       "model_id": "864405bf35be4fb0b75284f6a9df764e",
       "version_major": 2,
       "version_minor": 0
      },
      "text/plain": [
       "Box(children=(FloatSlider(value=1.0, description='opacity', max=1.0),))"
      ]
     },
     "metadata": {},
     "output_type": "display_data"
    }
   ],
   "source": [
    "print('Change STRM DEM layer opacity:')\n",
    "dem_layer = Map.layers[-1]\n",
    "dem_layer.interact(opacity=(0, 1, 0.1))\n",
    "\n"
   ]
  },
  {
   "cell_type": "code",
   "execution_count": null,
   "metadata": {},
   "outputs": [],
   "source": []
  },
  {
   "cell_type": "code",
   "execution_count": 11,
   "metadata": {},
   "outputs": [
    {
     "data": {
      "application/vnd.jupyter.widget-view+json": {
       "model_id": "5e2f526b7b5f4b038edb5132a28ace41",
       "version_major": 2,
       "version_minor": 0
      },
      "text/plain": [
       "TileLayer(attribution='Google Earth Engine', name='STRM DEM', opacity=0.9, options=['attribution', 'detect_ret…"
      ]
     },
     "metadata": {},
     "output_type": "display_data"
    }
   ],
   "source": []
  },
  {
   "cell_type": "code",
   "execution_count": null,
   "metadata": {},
   "outputs": [],
   "source": []
  }
 ],
 "metadata": {
  "kernelspec": {
   "display_name": "Python 3",
   "language": "python",
   "name": "python3"
  },
  "language_info": {
   "codemirror_mode": {
    "name": "ipython",
    "version": 3
   },
   "file_extension": ".py",
   "mimetype": "text/x-python",
   "name": "python",
   "nbconvert_exporter": "python",
   "pygments_lexer": "ipython3",
   "version": "3.8.2"
  }
 },
 "nbformat": 4,
 "nbformat_minor": 4
}
