{
 "cells": [
  {
   "cell_type": "markdown",
   "metadata": {},
   "source": [
    "# Mapsgeo\n",
    " "
   ]
  },
  {
   "cell_type": "markdown",
   "metadata": {},
   "source": [
    "## test map "
   ]
  },
  {
   "cell_type": "code",
   "execution_count": 1,
   "metadata": {},
   "outputs": [],
   "source": [
    "import ee\n",
    "import geemap\n"
   ]
  },
  {
   "cell_type": "code",
   "execution_count": 2,
   "metadata": {},
   "outputs": [],
   "source": [
    "from ipywidgets import interactive"
   ]
  },
  {
   "cell_type": "code",
   "execution_count": 4,
   "metadata": {},
   "outputs": [
    {
     "data": {
      "application/vnd.jupyter.widget-view+json": {
       "model_id": "5fb0de3edd194b4893c529bd1cb84249",
       "version_major": 2,
       "version_minor": 0
      },
      "text/plain": [
       "Map(center=[33.87, 35.9], controls=(WidgetControl(options=['position'], widget=HBox(children=(ToggleButton(val…"
      ]
     },
     "metadata": {},
     "output_type": "display_data"
    }
   ],
   "source": [
    "# center on Lebanon\n",
    "lat = 33.87\n",
    "lon = 35.9\n",
    "\n",
    "\n",
    "legend_keys = ['black','white','orange','yellow','red']\n",
    " #colorS can be defined using either hex code or RGB (0-255, 0-255, 0-255)\n",
    "legend_colors = [(0, 0,0), (255,255, 255), (251, 125, 0),(251, 223, 0), (255, 0 ,0)]\n",
    "\n",
    "Map = geemap.Map(center=[lat,lon],zoom=8)\n",
    "\n",
    "#Global/ALOS_landforms\n",
    "dataset_otq = ee.Image('CSP/ERGo/1_0/Global/ALOS_landforms')\n",
    "countries = ee.FeatureCollection('FAO/GAUL/2015/level0').select('ADM0_NAME')\n",
    "\n",
    "# Filter the feature collection to subset France.\n",
    "lebanon = countries.filter(ee.Filter.eq('ADM0_NAME', 'Lebanon'))\n",
    "dataset_otq =dataset_otq.clip(lebanon)\n",
    "Map.addLayer(dataset_otq, {}, \"CSP/ERGo/1_0/Global/ALOS_landforms\")\n",
    "\n",
    "#WorldPop/GP/100m/pop\n",
    "dataset_jgx = ee.ImageCollection('WorldPop/GP/100m/pop')\n",
    "dataset_jgx=dataset_jgx.sort('system:time_end').first().clip(lebanon)\n",
    "Map.addLayer(dataset_jgx, {}, \"WorldPop/GP/100m/pop\")\n",
    "\n",
    "for i in range(2020, 2021, 1):\n",
    "    for j in range(1, 2, 1):\n",
    "        if (j== 2):\n",
    "        \n",
    "            d=28\n",
    "        \n",
    "        elif (j==4 or j==6 or j==9 or j==11  ): \n",
    "            d=30\n",
    "        \n",
    "        else: \n",
    "            d=31\n",
    "        \n",
    "\n",
    "        dataset = ee.ImageCollection('NOAA/VIIRS/DNB/MONTHLY_V1/VCMSLCFG')\\\n",
    "        .filterDate(f'{i}-{j}-01', f'{i}-{j}-{d}')\n",
    "        nighttime =dataset.sort('system:time_end').first().select('avg_rad')\n",
    "        nighttime = nighttime.clip(lebanon)\n",
    "        nighttimeVis = {'min': 0.0, 'max': 60.0, 'palette':['black','white','orange','yellow','red']}\n",
    "    #Map.setCenter(35.9957, 33.8718, 8)\n",
    "    #Map.addLayer(nighttime, nighttimeVis, 'Nighttime '+i+'-'+j,False)\n",
    "#print(f'{i}-{j}-{d}')\n",
    "        Map.addLayer(nighttime , nighttimeVis, f'{i}-{j}-{d}')\n",
    "\n",
    "\n",
    "#Map.add_legend(legend_title=\"night\",legend_keys=legend_keys, legend_colors=legend_colors, position='bottomleft')\n",
    "Map"
   ]
  },
  {
   "cell_type": "code",
   "execution_count": null,
   "metadata": {},
   "outputs": [],
   "source": []
  },
  {
   "cell_type": "code",
   "execution_count": null,
   "metadata": {},
   "outputs": [],
   "source": []
  }
 ],
 "metadata": {
  "kernelspec": {
   "display_name": "Python 3",
   "language": "python",
   "name": "python3"
  },
  "language_info": {
   "codemirror_mode": {
    "name": "ipython",
    "version": 3
   },
   "file_extension": ".py",
   "mimetype": "text/x-python",
   "name": "python",
   "nbconvert_exporter": "python",
   "pygments_lexer": "ipython3",
   "version": "3.8.2"
  }
 },
 "nbformat": 4,
 "nbformat_minor": 4
}
