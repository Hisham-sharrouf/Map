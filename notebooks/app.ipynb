{
 "cells": [
  {
   "cell_type": "markdown",
   "metadata": {},
   "source": [
    "<div data-ux=\"Block\" speed=\"-1.5\" oversizespeed=\"1.5\" excludedbreakpoints=\"\" id=\"header_parallax7866\" class=\"x-el x-el-div c1-1 c1-2 c1-4 c1-p c1-v c1-w c1-y c1-4k c1-27 c1-29 c1-i c1-b c1-c c1-d c1-4m c1-4n c1-4o c1-2f c1-e c1-f c1-g\" style=\"transform: none; opacity: 1;\"><div data-ux=\"Container\" class=\"x-el x-el-div c1-1 c1-2 c1-48 c1-47 c1-1w c1-1x c1-1y c1-b c1-c c1-4p c1-d c1-4q c1-21 c1-22 c1-4r c1-4s c1-4t c1-e c1-4u c1-f c1-4v c1-g\"><div data-ux=\"Hero\" class=\"x-el x-el-div c1-1 c1-2 c1-4w c1-4x c1-o c1-27 c1-29 c1-4y c1-4z c1-4 c1-2m c1-b c1-c c1-d c1-21 c1-50 c1-51 c1-52 c1-53 c1-22 c1-54 c1-55 c1-56 c1-57 c1-58 c1-e c1-f c1-g\"><div data-ux=\"Container\" class=\"x-el x-el-div c1-1 c1-2 c1-48 c1-47 c1-3j c1-3i c1-1y c1-59 c1-2i c1-2k c1-27 c1-29 c1-3k c1-b c1-c c1-4p c1-d c1-4q c1-e c1-4u c1-f c1-4v c1-g\"><div data-ux=\"Element\" id=\"tagline-container-7867\" class=\"x-el x-el-div c1-1 c1-2 c1-34 c1-2n c1-5a c1-5b c1-o c1-1y c1-b c1-c c1-d c1-e c1-f c1-g\" style=\"\"><h1 role=\"heading\" aria-level=\"1\" data-ux=\"Tagline\" data-aid=\"HEADER_TAGLINE_RENDERED\" id=\"dynamic-tagline-7868\" data-typography=\"HeadingAlpha\" class=\"x-el x-el-h1 c1-2s c1-2t c1-34 c1-2n c1-5a c1-48 c1-47 c1-27 c1-29 c1-5c c1-1y c1-2u c1-2v c1-5d c1-5e c1-5f c1-3s c1-3t c1-3u c1-3v c1-5g c1-5h c1-5i c1-5j\" style=\"font-size: 40px;\">Welcome to Mapsgeo</h1><span role=\"heading\" aria-level=\"NaN\" data-ux=\"scaler\" data-size=\"xxxlarge\" data-scaler-id=\"scaler-tagline-container-7867\" aria-hidden=\"true\" data-typography=\"HeadingAlpha\" class=\"x-el x-el-span c1-2s c1-2t c1-5k c1-5l c1-5a c1-48 c1-47 c1-27 c1-29 c1-5c c1-1y c1-46 c1-4i c1-5m c1-3b c1-5n c1-5o c1-5e c1-2v c1-5d c1-5f c1-3s c1-3t c1-3u c1-3v c1-5g c1-5h c1-5i c1-5j\" style=\"display: none;\">Welcome to Mapsgeo</span><span role=\"heading\" aria-level=\"NaN\" data-ux=\"scaler\" data-size=\"xxlarge\" data-scaler-id=\"scaler-tagline-container-7867\" aria-hidden=\"true\" data-typography=\"HeadingAlpha\" class=\"x-el x-el-span c1-2s c1-2t c1-5k c1-5l c1-5a c1-48 c1-47 c1-27 c1-29 c1-5c c1-1y c1-46 c1-4i c1-5m c1-3b c1-5n c1-5o c1-5p c1-2v c1-5d c1-5f c1-3s c1-3t c1-3u c1-3v c1-5q c1-5r c1-5s c1-5t\" style=\"display: none;\">Welcome to Mapsgeo</span><span role=\"heading\" aria-level=\"NaN\" data-ux=\"scaler\" data-size=\"xlarge\" data-scaler-id=\"scaler-tagline-container-7867\" aria-hidden=\"true\" data-typography=\"HeadingAlpha\" class=\"x-el x-el-span c1-2s c1-2t c1-5k c1-5l c1-5a c1-48 c1-47 c1-27 c1-29 c1-5c c1-1y c1-46 c1-4i c1-5m c1-3b c1-5n c1-5o c1-5u c1-2v c1-5d c1-5f c1-3s c1-3t c1-3u c1-3v c1-5v c1-5w c1-5x c1-5y\" style=\"display: none;\">Welcome to Mapsgeo</span></div></div><div data-ux=\"HeroText\" data-aid=\"HEADER_TAGLINE2_RENDERED\" data-typography=\"BodyBeta\" class=\"x-el c1-1 c1-2 c1-34 c1-2n c1-5z c1-27 c1-29 c1-1y c1-60 c1-61 c1-62 c1-63 c1-b c1-5d c1-64 c1-65 c1-66 c1-67 c1-68 c1-69 x-rt\"><p style=\"margin:0\"><span class=\"x-el x-el-span c1-6g c1-6h c1-b c1-64 c1-66 c1-67 c1-68 c1-69\"><em class=\"x-el x-el-span c1-31 c1-32 c1-6a c1-6b c1-3d c1-6c c1-6d c1-b\">A leading provider of Satellite Imagery, GIS mapping and Remote Sensing Services</em></span></p><p style=\"margin:0\"><span class=\"x-el x-el-span c1-6g c1-6h c1-b c1-64 c1-66 c1-67 c1-68 c1-69\"><em class=\"x-el x-el-span c1-31 c1-32 c1-6a c1-6b c1-3d c1-6c c1-6d c1-b\">supporting all engineering firms&nbsp;</em></span></p></div></div></div></div>"
   ]
  },
  {
   "cell_type": "markdown",
   "metadata": {},
   "source": [
    "## Testing map \n",
    "<h1>\n",
    "<br>    \n",
    "</h1>"
   ]
  },
  {
   "cell_type": "code",
   "execution_count": 27,
   "metadata": {},
   "outputs": [],
   "source": [
    "import ee\n",
    "import geemap\n",
    "import ipywidgets as widgets\n",
    "from bqplot import pyplot as plt\n",
    "from ipyleaflet import WidgetControl\n",
    "from ipywidgets import interactive\n",
    "import numpy as np"
   ]
  },
  {
   "cell_type": "code",
   "execution_count": 28,
   "metadata": {
    "scrolled": true
   },
   "outputs": [
    {
     "data": {
      "application/vnd.jupyter.widget-view+json": {
       "model_id": "3fbde1b88b664a0aac48c22011286b51",
       "version_major": 2,
       "version_minor": 0
      },
      "text/plain": [
       "Output()"
      ]
     },
     "metadata": {},
     "output_type": "display_data"
    }
   ],
   "source": [
    "import os\n",
    "#in local\n",
    "work_dir = os.path.join(os.path.expanduser(\"~\"), 'Documents')\n",
    "texted_gif = os.path.join(work_dir,\"voila1\\\\notebooks\\landsat_ts_text.gif\")\n",
    "\n",
    "# Online app\n",
    "#work_dir = os.path.join(os.path.expanduser(\"~\"), 'notebooks')\n",
    "#texted_gif = os.path.join(work_dir,\"landsat_ts_text.gif\")\n",
    "#geemap.add_text_to_gif(out_gif, texted_gif, xy=('3%', '5%'), text_sequence=1985, font_size=30, font_color='#ffffff', add_progress_bar=False)\n",
    "\n",
    "#label = 'Urban Growth in Beirut'\n",
    "#geemap.add_text_to_gif(texted_gif, texted_gif, xy=('2%', '88%'), text_sequence=label, font_size=30, font_color='#ffffff', progress_bar_color='cyan')\n",
    "\n",
    "geemap.show_image(texted_gif)"
   ]
  },
  {
   "cell_type": "markdown",
   "metadata": {},
   "source": [
    "<h1>\n",
    "<br>\n",
    " <br>\n",
    " </h1>\n",
    "<center> <h1  style=\"background-color:#7CCA62; color:white;\"> Sentinel-2 MSI: MultiSpectral Instrument, Level-2A</h1></center>\n",
    "<h1>\n",
    "<br>   \n",
    "</h1>"
   ]
  },
  {
   "cell_type": "code",
   "execution_count": 29,
   "metadata": {},
   "outputs": [
    {
     "data": {
      "application/vnd.jupyter.widget-view+json": {
       "model_id": "0a48694877a2458ea40cf0938d135081",
       "version_major": 2,
       "version_minor": 0
      },
      "text/plain": [
       "Map(center=[33.87, 35.9], controls=(WidgetControl(options=['position'], widget=HBox(children=(ToggleButton(val…"
      ]
     },
     "metadata": {},
     "output_type": "display_data"
    }
   ],
   "source": [
    "Map1 = geemap.Map(center=(33.87, 35.9), zoom=5,add_google_map=False)\n",
    "countries = ee.FeatureCollection('FAO/GAUL/2015/level0').select('ADM0_NAME')\n",
    "Map1.addLayer(countries , {}, 'Country Boundaries');\n",
    "Map1"
   ]
  },
  {
   "cell_type": "code",
   "execution_count": 30,
   "metadata": {},
   "outputs": [
    {
     "data": {
      "application/vnd.jupyter.widget-view+json": {
       "model_id": "cf10b2c43f574ad891afbfa4bc8b06bc",
       "version_major": 2,
       "version_minor": 0
      },
      "text/plain": [
       "VBox(children=(HBox(children=(Text(value='Lebanon', description='Country name', style=DescriptionStyle(descrip…"
      ]
     },
     "metadata": {},
     "output_type": "display_data"
    }
   ],
   "source": [
    "\n",
    "style = {'description_width': 'initial'}\n",
    "\n",
    "output_widget11 = widgets.Output(layout={'border': '1px solid black'})\n",
    "output_control11 = WidgetControl(widget=output_widget11, position='bottomright')\n",
    "Map1.add_control(output_control11)\n",
    "\n",
    "from_date = widgets.Text(\n",
    "    description='From date:',\n",
    "    value='2021-03-21',\n",
    "    width=200,\n",
    "    style=style\n",
    ")\n",
    "\n",
    "to_date = widgets.Text(\n",
    "    description='To year:',\n",
    "    value='2021-03-23',\n",
    "    width=300,\n",
    "    style=style\n",
    ")\n",
    "\n",
    "submit11 = widgets.Button(\n",
    "    description='Submit',\n",
    "    button_style='success',\n",
    "    tooltip='Click me',\n",
    "    style=style\n",
    ")\n",
    "\n",
    "band_1 = widgets.Dropdown(\n",
    "    description='Band 1:',\n",
    "    options=['','B1', 'B2', 'B3', 'B4', 'B5', 'B6', 'B7', 'B8', 'B8A', 'B9',\n",
    "              'B11', 'B12', 'AOT', 'WVP', 'SCL', 'TCI_R', 'TCI_G', 'TCI_B',\n",
    "              'MSK_CLDPRB', 'MSK_SNWPRB', 'QA10', 'QA20', 'QA60'],\n",
    "    value='B4',\n",
    "    style=style\n",
    ")\n",
    "\n",
    "band_2 = widgets.Dropdown(\n",
    "    description='Band 2:',\n",
    "    options=['','B1', 'B2', 'B3', 'B4', 'B5', 'B6', 'B7', 'B8', 'B8A', 'B9',\n",
    "              'B11', 'B12', 'AOT', 'WVP', 'SCL', 'TCI_R', 'TCI_G', 'TCI_B',\n",
    "              'MSK_CLDPRB', 'MSK_SNWPRB', 'QA10', 'QA20', 'QA60'],\n",
    "    value='B3',\n",
    "    style=style\n",
    ")\n",
    "\n",
    "band_3 = widgets.Dropdown(\n",
    "    description='Band 3:',\n",
    "    options=['','B1', 'B2', 'B3', 'B4', 'B5', 'B6', 'B7', 'B8', 'B8A', 'B9',\n",
    "              'B11', 'B12', 'AOT', 'WVP', 'SCL', 'TCI_R', 'TCI_G', 'TCI_B',\n",
    "              'MSK_CLDPRB', 'MSK_SNWPRB', 'QA10', 'QA20', 'QA60'],\n",
    "    value='B2',\n",
    "    style=style\n",
    ")\n",
    "\n",
    "county_name = widgets.Text(\n",
    "    description='Country name',\n",
    "    value='Lebanon',\n",
    "    width=350,\n",
    "    style=style\n",
    ")\n",
    "\n",
    "full_widget11 = widgets.VBox([\n",
    "    widgets.HBox([county_name]),\n",
    "    widgets.HBox([from_date,to_date]),\n",
    "    widgets.HBox([band_1, band_2,band_3]),\n",
    "    submit11\n",
    "])\n",
    "\n",
    "full_widget11"
   ]
  },
  {
   "cell_type": "code",
   "execution_count": 31,
   "metadata": {},
   "outputs": [],
   "source": [
    "def maskS2clouds(image):\n",
    "    qa = image.select('QA60')\n",
    "    \n",
    "    # Bits 10 and 11 are clouds and cirrus, respectively.\n",
    "    cloudBitMask = 1 << 10\n",
    "    cirrusBitMask = 1 << 11\n",
    "    # Both flags should be set to zero, indicating clear conditions.\n",
    "    mask = qa.bitwiseAnd(cloudBitMask).eq(0) \\\n",
    "    .And(qa.bitwiseAnd(cirrusBitMask).eq(0))\n",
    "    \n",
    "    return image.updateMask(mask).divide(10000)\n",
    "\n",
    "\n",
    "# Click event handler\n",
    "\n",
    "def submit_clicked1(b):\n",
    "    \n",
    "    with output_widget11:\n",
    "        output_widget11.clear_output()\n",
    "        print('Computing...')\n",
    "        Map1.default_style = {'cursor': 'wait'}\n",
    "\n",
    "        try:\n",
    "            start_date = from_date.value\n",
    "            end_date = to_date.value\n",
    "            \n",
    "            county=county_name.value\n",
    "            \n",
    "            band1=band_1.value\n",
    "            band2=band_2.value\n",
    "            band3=band_3.value\n",
    "            \n",
    "           \n",
    "            countries = ee.FeatureCollection('FAO/GAUL/2015/level0').select('ADM0_NAME')\n",
    "            country = countries.filter(ee.Filter.eq('ADM0_NAME', county))\n",
    "            \n",
    "            dataset = ee.ImageCollection('COPERNICUS/S2_SR') \\\n",
    "                  .filterDate(start_date, end_date) \\\n",
    "                  .filter(ee.Filter.lt('CLOUDY_PIXEL_PERCENTAGE',20)) \\\n",
    "                  .map(maskS2clouds)\n",
    "            sentinel2 =dataset.mean()\n",
    "            sentinel2 =sentinel2.clip(country)\n",
    "\n",
    "            visualization = {\n",
    "            'min': 0.0,\n",
    "            'max': 0.3,\n",
    "            'bands': [band1, band2, band3]\n",
    "                }\n",
    "            \n",
    "            Map1.addLayer(sentinel2, visualization, f'{band1}/{band2}/{band3} _ {start_date}-{end_date}')\n",
    "            \n",
    "            output_widget11.clear_output()\n",
    "\n",
    "            \n",
    "            \n",
    "            \n",
    "    \n",
    "        except Exception as e:\n",
    "            print(e)\n",
    "            print('An error occurred during computation.')\n",
    "        \n",
    "\n",
    "        Map1.default_style = {'cursor': 'default'}\n",
    "\n",
    "submit11.on_click(submit_clicked1)"
   ]
  },
  {
   "cell_type": "code",
   "execution_count": 32,
   "metadata": {},
   "outputs": [
    {
     "name": "stdout",
     "output_type": "stream",
     "text": [
      "Change new layer opacity:\n"
     ]
    },
    {
     "data": {
      "application/vnd.jupyter.widget-view+json": {
       "model_id": "423ba9c9be564a95a5955e5d0bd4e914",
       "version_major": 2,
       "version_minor": 0
      },
      "text/plain": [
       "Box(children=(FloatSlider(value=1.0, description='opacity', max=1.0),))"
      ]
     },
     "metadata": {},
     "output_type": "display_data"
    }
   ],
   "source": [
    "print('Change new layer opacity:')\n",
    "land_layer = Map1.layers[-1]\n",
    "land_layer.interact(opacity=(0, 1, 0.1))"
   ]
  },
  {
   "cell_type": "markdown",
   "metadata": {},
   "source": [
    "<h1>\n",
    "  <br>\n",
    "   <br>\n",
    "</h1>    \n",
    "<center> <h1  style=\"background-color:#7CCA62; color:white;\"> Visualizing weather data</h1></center>\n",
    "<h1>\n",
    "  <br> \n",
    "</h1>  "
   ]
  },
  {
   "cell_type": "code",
   "execution_count": 33,
   "metadata": {},
   "outputs": [
    {
     "data": {
      "application/vnd.jupyter.widget-view+json": {
       "model_id": "cbd1f1180e304d76b4d9818001087227",
       "version_major": 2,
       "version_minor": 0
      },
      "text/plain": [
       "Map(center=[35.8926, 33.7835], controls=(WidgetControl(options=['position'], widget=HBox(children=(ToggleButto…"
      ]
     },
     "metadata": {},
     "output_type": "display_data"
    }
   ],
   "source": [
    "# center on Lebanon\n",
    "# Add Earth Eninge layers to \n",
    "\n",
    "Map2 = geemap.Map(center=[35.8926, 33.7835], zoom=4, add_google_map=False)\n",
    "countries = ee.FeatureCollection('FAO/GAUL/2015/level0').select('ADM0_NAME')\n",
    "# Filter the feature collection to subset .\n",
    "lebanon = countries.filter(ee.Filter.eq('ADM0_NAME', 'Lebanon'))\n",
    "\n",
    "\n",
    "Map2"
   ]
  },
  {
   "cell_type": "code",
   "execution_count": 34,
   "metadata": {},
   "outputs": [
    {
     "data": {
      "application/vnd.jupyter.widget-view+json": {
       "model_id": "2e837980155a4dac9226fada1cf66193",
       "version_major": 2,
       "version_minor": 0
      },
      "text/plain": [
       "VBox(children=(HBox(children=(Text(value='2021-03-21', description='From date:', style=DescriptionStyle(descri…"
      ]
     },
     "metadata": {},
     "output_type": "display_data"
    }
   ],
   "source": [
    "style = {'description_width': 'initial'}\n",
    "\n",
    "output_widget2 = widgets.Output(layout={'border': '1px solid black'})\n",
    "output_control2 = WidgetControl(widget=output_widget2, position='bottomright')\n",
    "Map2.add_control(output_control2)\n",
    "\n",
    "admin1_widget = widgets.Text(\n",
    "    description='From date:',\n",
    "    value='2021-03-21',\n",
    "    width=200,\n",
    "    style=style\n",
    ")\n",
    "\n",
    "admin2_widget = widgets.Text(\n",
    "    description='To date:',\n",
    "    value='2021-03-22',\n",
    "    width=300,\n",
    "    style=style\n",
    ")\n",
    "submit2 = widgets.Button(\n",
    "    description='Submit',\n",
    "    button_style='primary',\n",
    "    tooltip='Click me',\n",
    "    style=style\n",
    ")\n",
    "\n",
    "full_widget2 = widgets.VBox([\n",
    "    widgets.HBox([admin1_widget, admin2_widget]),\n",
    "    submit2\n",
    "])\n",
    "\n",
    "full_widget2"
   ]
  },
  {
   "cell_type": "code",
   "execution_count": 35,
   "metadata": {},
   "outputs": [],
   "source": [
    "# Click event handler\n",
    "\n",
    "def submit_clicked2(b):\n",
    "    \n",
    "    with output_widget2:\n",
    "        output_widget2.clear_output()\n",
    "        print('Computing...')\n",
    "        Map2.default_style = {'cursor': 'wait'}\n",
    "\n",
    "        try:\n",
    "            admin1_id = admin1_widget.value\n",
    "            admin2_id = admin2_widget.value\n",
    "           \n",
    "            \n",
    "            \n",
    "            layer_name = admin1_id + '-' + admin2_id\n",
    "           \n",
    "            \n",
    "            collection = ee.ImageCollection('NOAA/GFS0P25') \\\n",
    "            .filterDate(admin1_id , admin2_id ) \\\n",
    "            .limit(24) \\\n",
    "            .select('temperature_2m_above_ground')\n",
    "\n",
    "            vis_params = {\n",
    "                'min': -40.0,\n",
    "                'max': 35.0,\n",
    "                'palette': ['blue', 'purple', 'cyan', 'green', 'yellow', 'red']\n",
    "            }\n",
    "            \n",
    "            \n",
    "            legend_keys=['-40 : -30','-31 : -20','-21 : -6','-5 : 9','10 : 22', '23 : 35']\n",
    "            legend_colors = [(0,0,255), (128,0,128), (0,255,255),(0,128,0), (255,255,0),(255,0,0)]\n",
    "            #legend_colors=['blue', 'purple', 'cyan', 'green', 'yellow', 'red']\n",
    "            first_image = collection.first()\n",
    "            #first_image=first_image.clip(lebanon)\n",
    "            Map2.addLayer(first_image, vis_params, \"First image\")\n",
    "            Map2.add_legend(legend_title=\"Temperature Above Ground\",legend_keys=legend_keys,legend_colors=legend_colors, position='bottomleft')\n",
    "            \n",
    "            \n",
    "            image = collection.toBands()\n",
    "            Map2.addLayer(image, {}, \"Time series\", False)\n",
    "            labels = [str(n).zfill(2) + \":00\" for n in range(0, 24)]\n",
    "            Map2.add_time_slider(collection, vis_params, labels=labels, time_interval=1)\n",
    "            Map2.addLayer(lebanon, {}, 'Second-level administrative region')\n",
    "           \n",
    "            output_widget2.clear_output()\n",
    "            \n",
    "            \n",
    "            \n",
    "            \n",
    "    \n",
    "        except Exception as e:\n",
    "            print(e)\n",
    "            print('An error occurred during computation.')\n",
    "        \n",
    "\n",
    "        Map2.default_style = {'cursor': 'default'}\n",
    "\n",
    "submit2.on_click(submit_clicked2)"
   ]
  },
  {
   "cell_type": "code",
   "execution_count": 36,
   "metadata": {},
   "outputs": [
    {
     "name": "stdout",
     "output_type": "stream",
     "text": [
      "Lebanon :\n"
     ]
    },
    {
     "data": {
      "application/vnd.jupyter.widget-view+json": {
       "model_id": "47b50250b1c048ba8b7a7c1da2b19e07",
       "version_major": 2,
       "version_minor": 0
      },
      "text/plain": [
       "Box(children=(IntSlider(value=1, description='opacity', max=1),))"
      ]
     },
     "metadata": {},
     "output_type": "display_data"
    }
   ],
   "source": [
    "print('Lebanon :')\n",
    "land_layer = Map2.layers[-1]\n",
    "land_layer.interact(opacity=(0, 1, 1))"
   ]
  },
  {
   "cell_type": "markdown",
   "metadata": {},
   "source": [
    "<h1>\n",
    "<br>\n",
    "<br>\n",
    "<br>\n",
    "<br>\n",
    "<br>   \n",
    "</h1>  \n",
    "\n",
    "<h3 align=\"center\"> © Hisham Sharrouf, Data Science student at LU. </h3>"
   ]
  }
 ],
 "metadata": {
  "kernelspec": {
   "display_name": "Python 3",
   "language": "python",
   "name": "python3"
  },
  "language_info": {
   "codemirror_mode": {
    "name": "ipython",
    "version": 3
   },
   "file_extension": ".py",
   "mimetype": "text/x-python",
   "name": "python",
   "nbconvert_exporter": "python",
   "pygments_lexer": "ipython3",
   "version": "3.8.2"
  }
 },
 "nbformat": 4,
 "nbformat_minor": 4
}
