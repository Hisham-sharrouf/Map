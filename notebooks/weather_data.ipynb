{
 "cells": [
  {
   "cell_type": "code",
   "execution_count": 11,
   "metadata": {},
   "outputs": [],
   "source": [
    "from bqplot import pyplot as plt\n",
    "import ipywidgets as widgets\n",
    "import numpy as np\n",
    "import ee\n",
    "import geemap\n",
    "\n",
    "import os\n",
    "from ipyleaflet import WidgetControl\n"
   ]
  },
  {
   "cell_type": "markdown",
   "metadata": {},
   "source": [
    "# Visualizing weather data"
   ]
  },
  {
   "cell_type": "code",
   "execution_count": 12,
   "metadata": {},
   "outputs": [
    {
     "data": {
      "application/vnd.jupyter.widget-view+json": {
       "model_id": "42dffef9553846f593641c8c1d0f8143",
       "version_major": 2,
       "version_minor": 0
      },
      "text/plain": [
       "Map(center=[35.8926, 33.7835], controls=(WidgetControl(options=['position'], widget=HBox(children=(ToggleButto…"
      ]
     },
     "metadata": {},
     "output_type": "display_data"
    }
   ],
   "source": [
    "# center on Lebanon\n",
    "# Add Earth Eninge layers to \n",
    "\n",
    "Map = geemap.Map(center=[35.8926, 33.7835], zoom=4, add_google_map=False)\n",
    "countries = ee.FeatureCollection('FAO/GAUL/2015/level0').select('ADM0_NAME')\n",
    "# Filter the feature collection to subset .\n",
    "lebanon = countries.filter(ee.Filter.eq('ADM0_NAME', 'Lebanon'))\n",
    "\n",
    "\n",
    "Map"
   ]
  },
  {
   "cell_type": "code",
   "execution_count": 13,
   "metadata": {},
   "outputs": [
    {
     "data": {
      "application/vnd.jupyter.widget-view+json": {
       "model_id": "ae83a8c5ea024cd78a100decac541b1d",
       "version_major": 2,
       "version_minor": 0
      },
      "text/plain": [
       "VBox(children=(HBox(children=(Text(value='2021-03-21', description='From date:', style=DescriptionStyle(descri…"
      ]
     },
     "metadata": {},
     "output_type": "display_data"
    }
   ],
   "source": [
    "style = {'description_width': 'initial'}\n",
    "\n",
    "output_widget = widgets.Output(layout={'border': '1px solid black'})\n",
    "output_control = WidgetControl(widget=output_widget, position='bottomright')\n",
    "Map.add_control(output_control)\n",
    "\n",
    "admin1_widget = widgets.Text(\n",
    "    description='From date:',\n",
    "    value='2021-03-21',\n",
    "    width=200,\n",
    "    style=style\n",
    ")\n",
    "\n",
    "admin2_widget = widgets.Text(\n",
    "    description='To date:',\n",
    "    value='2021-03-22',\n",
    "    width=300,\n",
    "    style=style\n",
    ")\n",
    "submit = widgets.Button(\n",
    "    description='Submit',\n",
    "    button_style='primary',\n",
    "    tooltip='Click me',\n",
    "    style=style\n",
    ")\n",
    "\n",
    "full_widget = widgets.VBox([\n",
    "    widgets.HBox([admin1_widget, admin2_widget]),\n",
    "    submit\n",
    "])\n",
    "\n",
    "full_widget"
   ]
  },
  {
   "cell_type": "code",
   "execution_count": 14,
   "metadata": {},
   "outputs": [],
   "source": [
    "# Click event handler\n",
    "\n",
    "def submit_clicked(b):\n",
    "    \n",
    "    with output_widget:\n",
    "        output_widget.clear_output()\n",
    "        print('Computing...')\n",
    "        Map.default_style = {'cursor': 'wait'}\n",
    "\n",
    "        try:\n",
    "            admin1_id = admin1_widget.value\n",
    "            admin2_id = admin2_widget.value\n",
    "           \n",
    "            \n",
    "            \n",
    "            layer_name = admin1_id + '-' + admin2_id\n",
    "           \n",
    "            \n",
    "            collection = ee.ImageCollection('NOAA/GFS0P25') \\\n",
    "            .filterDate(admin1_id , admin2_id ) \\\n",
    "            .limit(24) \\\n",
    "            .select('temperature_2m_above_ground')\n",
    "\n",
    "            vis_params = {\n",
    "                'min': -40.0,\n",
    "                'max': 35.0,\n",
    "                'palette': ['blue', 'purple', 'cyan', 'green', 'yellow', 'red']\n",
    "            }\n",
    "            \n",
    "            \n",
    "            legend_keys=['-40 : -30','-31 : -20','-21 : -6','-5 : 9','10 : 22', '23 : 35']\n",
    "            legend_colors = [(0,0,255), (128,0,128), (0,255,255),(0,128,0), (255,255,0),(255,0,0)]\n",
    "            #legend_colors=['blue', 'purple', 'cyan', 'green', 'yellow', 'red']\n",
    "            first_image = collection.first()\n",
    "            #first_image=first_image.clip(lebanon)\n",
    "            Map.addLayer(first_image, vis_params, \"First image\")\n",
    "            Map.add_legend(legend_title=\"Temperature Above Ground\",legend_keys=legend_keys,legend_colors=legend_colors, position='bottomleft')\n",
    "            \n",
    "            \n",
    "            image = collection.toBands()\n",
    "            Map.addLayer(image, {}, \"Time series\", False)\n",
    "            labels = [str(n).zfill(2) + \":00\" for n in range(0, 24)]\n",
    "            Map.add_time_slider(collection, vis_params, labels=labels, time_interval=1)\n",
    "            Map.addLayer(lebanon, {}, 'Second-level administrative region')\n",
    "           \n",
    "            output_widget.clear_output()\n",
    "            \n",
    "            \n",
    "            \n",
    "            \n",
    "    \n",
    "        except Exception as e:\n",
    "            print(e)\n",
    "            print('An error occurred during computation.')\n",
    "        \n",
    "\n",
    "        Map.default_style = {'cursor': 'default'}\n",
    "\n",
    "submit.on_click(submit_clicked)"
   ]
  },
  {
   "cell_type": "code",
   "execution_count": 15,
   "metadata": {},
   "outputs": [
    {
     "name": "stdout",
     "output_type": "stream",
     "text": [
      "Lebanon :\n"
     ]
    },
    {
     "data": {
      "application/vnd.jupyter.widget-view+json": {
       "model_id": "6970ba0d51c044178295d4df670bf9f0",
       "version_major": 2,
       "version_minor": 0
      },
      "text/plain": [
       "Box(children=(IntSlider(value=1, description='opacity', max=1),))"
      ]
     },
     "metadata": {},
     "output_type": "display_data"
    }
   ],
   "source": [
    "print('Lebanon :')\n",
    "land_layer = Map.layers[-1]\n",
    "land_layer.interact(opacity=(0, 1, 1))"
   ]
  },
  {
   "cell_type": "code",
   "execution_count": null,
   "metadata": {},
   "outputs": [],
   "source": []
  }
 ],
 "metadata": {
  "kernelspec": {
   "display_name": "Python 3",
   "language": "python",
   "name": "python3"
  },
  "language_info": {
   "codemirror_mode": {
    "name": "ipython",
    "version": 3
   },
   "file_extension": ".py",
   "mimetype": "text/x-python",
   "name": "python",
   "nbconvert_exporter": "python",
   "pygments_lexer": "ipython3",
   "version": "3.8.2"
  },
  "widgets": {
   "application/vnd.jupyter.widget-state+json": {
    "state": {},
    "version_major": 2,
    "version_minor": 0
   }
  }
 },
 "nbformat": 4,
 "nbformat_minor": 4
}
